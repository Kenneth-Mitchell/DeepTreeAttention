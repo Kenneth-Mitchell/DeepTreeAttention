{
 "cells": [
  {
   "cell_type": "code",
   "execution_count": 10,
   "id": "fb89fd97",
   "metadata": {},
   "outputs": [
    {
     "data": {
      "text/html": [
       "<style>.container { width:100% !important; }</style>"
      ],
      "text/plain": [
       "<IPython.core.display.HTML object>"
      ]
     },
     "metadata": {},
     "output_type": "display_data"
    }
   ],
   "source": [
    "import os\n",
    "os.chdir(\"/home/b.weinstein/DeepTreeAttention\")\n",
    "from src.data import read_config, TreeData\n",
    "from src.models import multi_stage\n",
    "from pytorch_lightning import Trainer\n",
    "from IPython.display import display, HTML\n",
    "display(HTML(\"<style>.container { width:100% !important; }</style>\"))\n",
    "import cProfile"
   ]
  },
  {
   "cell_type": "code",
   "execution_count": 11,
   "id": "8681014e",
   "metadata": {},
   "outputs": [
    {
     "data": {
      "text/plain": [
       "{'rgb_sensor_pool': '/orange/ewhite/NeonData/*/DP3.30010.001/**/Camera/**/*.tif',\n",
       " 'HSI_sensor_pool': '/orange/ewhite/NeonData/*/DP3.30006.001/**/Reflectance/*.h5',\n",
       " 'CHM_pool': '/orange/ewhite/NeonData/**/CanopyHeightModelGtif/*.tif',\n",
       " 'HSI_tif_dir': '/orange/ewhite/b.weinstein/DeepTreeAttention/Hyperspectral_tifs/year/',\n",
       " 'min_stem_diameter': 10,\n",
       " 'min_train_samples': 48,\n",
       " 'min_test_samples': 24,\n",
       " 'max_samples_per_class': 1000,\n",
       " 'iterations': 200,\n",
       " 'min_CHM_height': 1,\n",
       " 'max_CHM_diff': 4,\n",
       " 'CHM_height_limit': 8,\n",
       " 'megaplot_dir': '/orange/idtrees-collab/megaplot/',\n",
       " 'use_data_commit': '04a3c3001163490690ad7c90d7317ddf',\n",
       " 'data_dir': '/blue/ewhite/b.weinstein/DeepTreeAttention/',\n",
       " 'convert_h5': True,\n",
       " 'replace_bounding_boxes': False,\n",
       " 'replace_crops': False,\n",
       " 'train_test_commit': '83765201df47ba137ae73dc3d531c93c68367dea',\n",
       " 'existing_test_csv': None,\n",
       " 'image_size': 30,\n",
       " 'preload_images': True,\n",
       " 'preload_image_dict': True,\n",
       " 'workers': 0,\n",
       " 'taxonomic_csv': '/home/b.weinstein/DeepTreeAttention/data/raw/families.csv',\n",
       " 'create_pretrain_model': True,\n",
       " 'pretrain_state_dict': None,\n",
       " 'pretrain_epochs': 100,\n",
       " 'gpus': 1,\n",
       " 'batch_size': 48,\n",
       " 'bands': 349,\n",
       " 'head_class_minimum_ratio': 0.2,\n",
       " 'lr': 0.0001,\n",
       " 'lr_dominant_class': 5e-06,\n",
       " 'lr_conifer': 5e-06,\n",
       " 'lr_broadleaf': 5e-06,\n",
       " 'lr_oak': 5e-05,\n",
       " 'lr_flat': 5e-05,\n",
       " 'fast_dev_run': False,\n",
       " 'accelerator': 'auto',\n",
       " 'epochs': 40,\n",
       " 'snapshot_dir': '/blue/ewhite/b.weinstein/DeepTreeAttention/snapshots/',\n",
       " 'top_k': 4,\n",
       " 'validation_interval': 1,\n",
       " 'predict_batch_size': 1028,\n",
       " 'dead_threshold': 0.95,\n",
       " 'prediction_crop_dir': '/blue/ewhite/b.weinstein/DeepTreeAttention/results/crops/',\n",
       " 'DeepForest_workers': 0,\n",
       " 'DeepForest_preload': True,\n",
       " 'DeepForest_batch_size': 32,\n",
       " 'comet_workspace': 'bw4sz',\n",
       " 'dead': {'train_dir': 'data/raw/dead_train/',\n",
       "  'test_dir': 'data/raw/dead_test/',\n",
       "  'epochs': 40,\n",
       "  'lr': 0.0001,\n",
       "  'savedir': '/orange/idtrees-collab/DeepTreeAttention/Dead/snapshots/',\n",
       "  'batch_size': 128,\n",
       "  'num_workers': 0},\n",
       " 'crop_dir': '/blue/ewhite/b.weinstein/DeepTreeAttention/04a3c3001163490690ad7c90d7317ddf'}"
      ]
     },
     "execution_count": 11,
     "metadata": {},
     "output_type": "execute_result"
    }
   ],
   "source": [
    "config = read_config(\"config.yml\")\n",
    "config[\"crop_dir\"] = os.path.join(config[\"data_dir\"], config[\"use_data_commit\"])\n",
    "config[\"train_test_commit\"] = \"83765201df47ba137ae73dc3d531c93c68367dea\"\n",
    "config[\"preload_images\"] = True\n",
    "config[\"preload_image_dict\"] = True\n",
    "config"
   ]
  },
  {
   "cell_type": "code",
   "execution_count": 12,
   "id": "be2281ae",
   "metadata": {},
   "outputs": [
    {
     "name": "stdout",
     "output_type": "stream",
     "text": [
      "Loading previous data commit 04a3c3001163490690ad7c90d7317ddf\n",
      "Loading a train-test split from /blue/ewhite/b.weinstein/DeepTreeAttention/04a3c3001163490690ad7c90d7317ddf/83765201df47ba137ae73dc3d531c93c68367dea_['OSBS', 'JERC', 'TALL', 'DSNY']\n",
      "There are 14209 records for 17 species for 4 sites in filtered train\n",
      "There are 1653 records for 17 species for 4 sites in test\n"
     ]
    }
   ],
   "source": [
    "data_module = TreeData(\n",
    "    csv_file=\"/home/b.weinstein/DeepTreeAttention/data/raw/neon_vst_data_2022.csv\",\n",
    "    data_dir=config['crop_dir'],\n",
    "    experiment_id=\"profiler\",\n",
    "    config=config,\n",
    "    client=None,\n",
    "    site=\"['OSBS', 'JERC', 'TALL', 'DSNY']\",\n",
    "    comet_logger=None)"
   ]
  },
  {
   "cell_type": "code",
   "execution_count": 13,
   "id": "6737add1",
   "metadata": {},
   "outputs": [],
   "source": [
    "m = multi_stage.MultiStage(\n",
    "        train_df=data_module.train, \n",
    "        test_df=data_module.test, \n",
    "        config=data_module.config) "
   ]
  },
  {
   "cell_type": "code",
   "execution_count": 14,
   "id": "d54a1af5",
   "metadata": {},
   "outputs": [
    {
     "name": "stderr",
     "output_type": "stream",
     "text": [
      "GPU available: True (cuda), used: True\n",
      "TPU available: False, using: 0 TPU cores\n",
      "IPU available: False, using: 0 IPUs\n",
      "HPU available: False, using: 0 HPUs\n"
     ]
    }
   ],
   "source": [
    "trainer = Trainer(max_epochs=2, profiler=\"simple\")\n",
    "m.setup(\"fit\")\n",
    "m.current_level = \"dominant_class\""
   ]
  },
  {
   "cell_type": "code",
   "execution_count": 15,
   "id": "7bbdb58c",
   "metadata": {},
   "outputs": [],
   "source": [
    "#%prun individual, image, labels = next(iter(m.train_datasets[\"dominant_class\"]))"
   ]
  },
  {
   "cell_type": "code",
   "execution_count": 16,
   "id": "80e1eee9",
   "metadata": {},
   "outputs": [],
   "source": [
    "#dl = m.train_dataloader()\n",
    "#%prun batch = df = next(iter(dl))"
   ]
  },
  {
   "cell_type": "code",
   "execution_count": 17,
   "id": "5bcc2525",
   "metadata": {},
   "outputs": [
    {
     "name": "stderr",
     "output_type": "stream",
     "text": [
      "LOCAL_RANK: 0 - CUDA_VISIBLE_DEVICES: [7]\n",
      "\n",
      "  | Name          | Type       | Params\n",
      "---------------------------------------------\n",
      "0 | models        | ModuleDict | 7.5 M \n",
      "1 | level_metrics | ModuleDict | 0     \n",
      "---------------------------------------------\n",
      "7.5 M     Trainable params\n",
      "0         Non-trainable params\n",
      "7.5 M     Total params\n",
      "30.139    Total estimated model params size (MB)\n"
     ]
    },
    {
     "data": {
      "application/json": {
       "ascii": false,
       "bar_format": null,
       "colour": null,
       "elapsed": 0.00385284423828125,
       "initial": 0,
       "n": 0,
       "ncols": 204,
       "nrows": 47,
       "postfix": null,
       "prefix": "Sanity Checking",
       "rate": null,
       "total": null,
       "unit": "it",
       "unit_divisor": 1000,
       "unit_scale": false
      },
      "application/vnd.jupyter.widget-view+json": {
       "model_id": "",
       "version_major": 2,
       "version_minor": 0
      },
      "text/plain": [
       "Sanity Checking: 0it [00:00, ?it/s]"
      ]
     },
     "metadata": {},
     "output_type": "display_data"
    },
    {
     "data": {
      "application/json": {
       "ascii": false,
       "bar_format": null,
       "colour": null,
       "elapsed": 0.003871440887451172,
       "initial": 0,
       "n": 0,
       "ncols": 204,
       "nrows": 47,
       "postfix": null,
       "prefix": "Training",
       "rate": null,
       "total": null,
       "unit": "it",
       "unit_divisor": 1000,
       "unit_scale": false
      },
      "application/vnd.jupyter.widget-view+json": {
       "model_id": "abd9f8804f6e4b88930d37eb1d55d871",
       "version_major": 2,
       "version_minor": 0
      },
      "text/plain": [
       "Training: 0it [00:00, ?it/s]"
      ]
     },
     "metadata": {},
     "output_type": "display_data"
    },
    {
     "data": {
      "application/json": {
       "ascii": false,
       "bar_format": null,
       "colour": null,
       "elapsed": 0.0037238597869873047,
       "initial": 0,
       "n": 0,
       "ncols": 204,
       "nrows": 47,
       "postfix": null,
       "prefix": "Validation",
       "rate": null,
       "total": null,
       "unit": "it",
       "unit_divisor": 1000,
       "unit_scale": false
      },
      "application/vnd.jupyter.widget-view+json": {
       "model_id": "",
       "version_major": 2,
       "version_minor": 0
      },
      "text/plain": [
       "Validation: 0it [00:00, ?it/s]"
      ]
     },
     "metadata": {},
     "output_type": "display_data"
    },
    {
     "data": {
      "application/json": {
       "ascii": false,
       "bar_format": null,
       "colour": null,
       "elapsed": 0.00388336181640625,
       "initial": 0,
       "n": 0,
       "ncols": 204,
       "nrows": 47,
       "postfix": null,
       "prefix": "Validation",
       "rate": null,
       "total": null,
       "unit": "it",
       "unit_divisor": 1000,
       "unit_scale": false
      },
      "application/vnd.jupyter.widget-view+json": {
       "model_id": "",
       "version_major": 2,
       "version_minor": 0
      },
      "text/plain": [
       "Validation: 0it [00:00, ?it/s]"
      ]
     },
     "metadata": {},
     "output_type": "display_data"
    },
    {
     "name": "stderr",
     "output_type": "stream",
     "text": [
      "`Trainer.fit` stopped: `max_epochs=2` reached.\n",
      "FIT Profiler Report\n",
      "\n",
      "--------------------------------------------------------------------------------------------------------------------------------------------------------------------------------------------------------------------------------------------------------------------------\n",
      "|  Action                                                                                                                                                         \t|  Mean duration (s)\t|  Num calls      \t|  Total time (s) \t|  Percentage %   \t|\n",
      "--------------------------------------------------------------------------------------------------------------------------------------------------------------------------------------------------------------------------------------------------------------------------\n",
      "|  Total                                                                                                                                                          \t|  -              \t|  4899           \t|  107.15         \t|  100 %          \t|\n",
      "--------------------------------------------------------------------------------------------------------------------------------------------------------------------------------------------------------------------------------------------------------------------------\n",
      "|  run_training_epoch                                                                                                                                             \t|  28.416         \t|  2              \t|  56.832         \t|  53.039         \t|\n",
      "|  [_TrainingEpochLoop].train_dataloader_next                                                                                                                     \t|  0.32264        \t|  124            \t|  40.007         \t|  37.337         \t|\n",
      "|  [Strategy]SingleDeviceStrategy.batch_to_device                                                                                                                 \t|  0.048429       \t|  146            \t|  7.0707         \t|  6.5988         \t|\n",
      "|  [LightningModule]MultiStage.transfer_batch_to_device                                                                                                           \t|  0.048358       \t|  146            \t|  7.0603         \t|  6.5891         \t|\n",
      "|  [_EvaluationLoop].val_next                                                                                                                                     \t|  0.28516        \t|  23             \t|  6.5587         \t|  6.121          \t|\n",
      "|  run_training_batch                                                                                                                                             \t|  0.017502       \t|  124            \t|  2.1703         \t|  2.0255         \t|\n",
      "|  [LightningModule]MultiStage.optimizer_step                                                                                                                     \t|  0.017341       \t|  124            \t|  2.1503         \t|  2.0068         \t|\n",
      "|  [LightningModule]MultiStage.train_dataloader                                                                                                                   \t|  1.5976         \t|  1              \t|  1.5976         \t|  1.491          \t|\n",
      "|  [Strategy]SingleDeviceStrategy.training_step                                                                                                                   \t|  0.0085973      \t|  124            \t|  1.0661         \t|  0.99493        \t|\n",
      "|  [Strategy]SingleDeviceStrategy.backward                                                                                                                        \t|  0.0059739      \t|  124            \t|  0.74077        \t|  0.69133        \t|\n",
      "|  [Callback]ModelCheckpoint{'monitor': None, 'mode': 'min', 'every_n_train_steps': 0, 'every_n_epochs': 1, 'train_time_interval': None}.on_train_epoch_end       \t|  0.27665        \t|  2              \t|  0.5533         \t|  0.51638        \t|\n",
      "|  [Strategy]SingleDeviceStrategy.validation_step                                                                                                                 \t|  0.012582       \t|  22             \t|  0.27681        \t|  0.25834        \t|\n",
      "|  [Callback]TQDMProgressBar.on_train_batch_end                                                                                                                   \t|  0.0008451      \t|  124            \t|  0.10479        \t|  0.0978         \t|\n",
      "|  [Callback]TQDMProgressBar.on_validation_start                                                                                                                  \t|  0.013947       \t|  3              \t|  0.041842       \t|  0.03905        \t|\n",
      "|  [LightningModule]MultiStage.optimizer_zero_grad                                                                                                                \t|  0.00025514     \t|  124            \t|  0.031637       \t|  0.029526       \t|\n",
      "|  [Callback]TQDMProgressBar.on_train_start                                                                                                                       \t|  0.018708       \t|  1              \t|  0.018708       \t|  0.017459       \t|\n",
      "|  [Callback]TQDMProgressBar.on_sanity_check_start                                                                                                                \t|  0.018002       \t|  1              \t|  0.018002       \t|  0.0168         \t|\n",
      "|  [Callback]TQDMProgressBar.on_validation_batch_end                                                                                                              \t|  0.00059717     \t|  22             \t|  0.013138       \t|  0.012261       \t|\n",
      "|  [Callback]ModelSummary.on_fit_start                                                                                                                            \t|  0.010564       \t|  1              \t|  0.010564       \t|  0.0098587      \t|\n",
      "|  [LightningModule]MultiStage.on_validation_epoch_end                                                                                                            \t|  0.0033204      \t|  3              \t|  0.0099613      \t|  0.0092966      \t|\n",
      "|  [LightningModule]MultiStage.on_validation_model_train                                                                                                          \t|  0.0013064      \t|  3              \t|  0.0039192      \t|  0.0036576      \t|\n",
      "|  [LightningModule]MultiStage.on_validation_model_eval                                                                                                           \t|  0.001241       \t|  3              \t|  0.003723       \t|  0.0034745      \t|\n",
      "|  [LightningModule]MultiStage.configure_gradient_clipping                                                                                                        \t|  2.3681e-05     \t|  124            \t|  0.0029364      \t|  0.0027405      \t|\n",
      "|  [Callback]TQDMProgressBar.on_validation_batch_start                                                                                                            \t|  0.00012559     \t|  22             \t|  0.0027629      \t|  0.0025785      \t|\n",
      "|  [Callback]ModelCheckpoint{'monitor': None, 'mode': 'min', 'every_n_train_steps': 0, 'every_n_epochs': 1, 'train_time_interval': None}.on_train_batch_end       \t|  1.9674e-05     \t|  124            \t|  0.0024395      \t|  0.0022767      \t|\n",
      "|  [Callback]TQDMProgressBar.on_validation_end                                                                                                                    \t|  0.00047419     \t|  3              \t|  0.0014226      \t|  0.0013276      \t|\n",
      "|  [Callback]TQDMProgressBar.on_train_epoch_start                                                                                                                 \t|  0.00069355     \t|  2              \t|  0.0013871      \t|  0.0012945      \t|\n",
      "|  [Callback]TQDMProgressBar.on_train_batch_start                                                                                                                 \t|  4.1492e-06     \t|  124            \t|  0.0005145      \t|  0.00048016     \t|\n",
      "|  [Callback]TQDMProgressBar.on_train_end                                                                                                                         \t|  0.00047782     \t|  1              \t|  0.00047782     \t|  0.00044593     \t|\n",
      "|  [Callback]TQDMProgressBar.on_after_backward                                                                                                                    \t|  3.7905e-06     \t|  124            \t|  0.00047002     \t|  0.00043865     \t|\n",
      "|  [LightningModule]MultiStage.on_before_batch_transfer                                                                                                           \t|  3.1068e-06     \t|  146            \t|  0.0004536      \t|  0.00042333     \t|\n",
      "|  [Callback]ModelSummary.on_train_batch_end                                                                                                                      \t|  3.2358e-06     \t|  124            \t|  0.00040124     \t|  0.00037446     \t|\n",
      "|  [Callback]TQDMProgressBar.on_train_epoch_end                                                                                                                   \t|  0.00019628     \t|  2              \t|  0.00039257     \t|  0.00036637     \t|\n",
      "|  [LightningModule]MultiStage.configure_optimizers                                                                                                               \t|  0.00035274     \t|  1              \t|  0.00035274     \t|  0.0003292      \t|\n",
      "|  [Callback]TQDMProgressBar.on_before_zero_grad                                                                                                                  \t|  2.7895e-06     \t|  124            \t|  0.0003459      \t|  0.00032282     \t|\n",
      "|  [LightningModule]MultiStage.on_after_batch_transfer                                                                                                            \t|  1.9209e-06     \t|  146            \t|  0.00028045     \t|  0.00026173     \t|\n",
      "|  [Callback]ModelCheckpoint{'monitor': None, 'mode': 'min', 'every_n_train_steps': 0, 'every_n_epochs': 1, 'train_time_interval': None}.setup                    \t|  0.00026828     \t|  1              \t|  0.00026828     \t|  0.00025037     \t|\n",
      "|  [Callback]TQDMProgressBar.on_before_optimizer_step                                                                                                             \t|  2e-06          \t|  124            \t|  0.000248       \t|  0.00023145     \t|\n",
      "|  [Callback]TQDMProgressBar.on_before_backward                                                                                                                   \t|  1.9255e-06     \t|  124            \t|  0.00023877     \t|  0.00022283     \t|\n",
      "|  [Callback]ModelSummary.on_before_zero_grad                                                                                                                     \t|  1.8726e-06     \t|  124            \t|  0.0002322      \t|  0.0002167      \t|\n",
      "|  [LightningModule]MultiStage.on_train_batch_start                                                                                                               \t|  1.5491e-06     \t|  124            \t|  0.00019209     \t|  0.00017927     \t|\n",
      "|  [LightningModule]MultiStage.val_dataloader                                                                                                                     \t|  0.00018609     \t|  1              \t|  0.00018609     \t|  0.00017367     \t|\n",
      "|  [Callback]ModelCheckpoint{'monitor': None, 'mode': 'min', 'every_n_train_steps': 0, 'every_n_epochs': 1, 'train_time_interval': None}.on_before_backward       \t|  1.4051e-06     \t|  124            \t|  0.00017424     \t|  0.00016261     \t|\n",
      "|  [LightningModule]MultiStage.on_before_zero_grad                                                                                                                \t|  1.3789e-06     \t|  124            \t|  0.00017098     \t|  0.00015957     \t|\n",
      "|  [Callback]ModelSummary.on_train_batch_start                                                                                                                    \t|  1.3093e-06     \t|  124            \t|  0.00016236     \t|  0.00015152     \t|\n",
      "|  [Callback]ModelSummary.on_after_backward                                                                                                                       \t|  1.2983e-06     \t|  124            \t|  0.00016099     \t|  0.00015024     \t|\n",
      "|  [LightningModule]MultiStage.on_train_batch_end                                                                                                                 \t|  1.2616e-06     \t|  124            \t|  0.00015644     \t|  0.000146       \t|\n",
      "|  [LightningModule]MultiStage.lr_scheduler_step                                                                                                                  \t|  7.7114e-05     \t|  2              \t|  0.00015423     \t|  0.00014393     \t|\n",
      "|  [LightningModule]MultiStage.on_after_backward                                                                                                                  \t|  1.2106e-06     \t|  124            \t|  0.00015012     \t|  0.0001401      \t|\n",
      "|  [LightningModule]MultiStage.on_before_backward                                                                                                                 \t|  1.1956e-06     \t|  124            \t|  0.00014826     \t|  0.00013836     \t|\n",
      "|  [Callback]ModelCheckpoint{'monitor': None, 'mode': 'min', 'every_n_train_steps': 0, 'every_n_epochs': 1, 'train_time_interval': None}.on_before_zero_grad      \t|  1.1627e-06     \t|  124            \t|  0.00014418     \t|  0.00013455     \t|\n",
      "|  [Callback]ModelCheckpoint{'monitor': None, 'mode': 'min', 'every_n_train_steps': 0, 'every_n_epochs': 1, 'train_time_interval': None}.on_after_backward        \t|  1.1461e-06     \t|  124            \t|  0.00014212     \t|  0.00013264     \t|\n",
      "|  [Strategy]SingleDeviceStrategy.on_train_batch_start                                                                                                            \t|  1.1405e-06     \t|  124            \t|  0.00014142     \t|  0.00013198     \t|\n",
      "|  [Callback]ModelCheckpoint{'monitor': None, 'mode': 'min', 'every_n_train_steps': 0, 'every_n_epochs': 1, 'train_time_interval': None}.on_train_batch_start     \t|  1.0903e-06     \t|  124            \t|  0.0001352      \t|  0.00012618     \t|\n",
      "|  [Callback]ModelSummary.on_before_backward                                                                                                                      \t|  1.0108e-06     \t|  124            \t|  0.00012534     \t|  0.00011697     \t|\n",
      "|  [Callback]ModelSummary.on_before_optimizer_step                                                                                                                \t|  9.5801e-07     \t|  124            \t|  0.00011879     \t|  0.00011087     \t|\n",
      "|  [Callback]ModelCheckpoint{'monitor': None, 'mode': 'min', 'every_n_train_steps': 0, 'every_n_epochs': 1, 'train_time_interval': None}.on_before_optimizer_step \t|  9.4094e-07     \t|  124            \t|  0.00011668     \t|  0.00010889     \t|\n",
      "|  [LightningModule]MultiStage.on_before_optimizer_step                                                                                                           \t|  9.2133e-07     \t|  124            \t|  0.00011425     \t|  0.00010662     \t|\n",
      "|  [Callback]ModelSummary.on_validation_batch_end                                                                                                                 \t|  3.9368e-06     \t|  22             \t|  8.661e-05      \t|  8.083e-05      \t|\n",
      "|  [Callback]ModelCheckpoint{'monitor': None, 'mode': 'min', 'every_n_train_steps': 0, 'every_n_epochs': 1, 'train_time_interval': None}.on_validation_end        \t|  2.3617e-05     \t|  3              \t|  7.0852e-05     \t|  6.6124e-05     \t|\n",
      "|  [Callback]ModelSummary.on_validation_batch_start                                                                                                               \t|  2.157e-06      \t|  22             \t|  4.7455e-05     \t|  4.4288e-05     \t|\n",
      "|  [LightningModule]MultiStage.on_validation_batch_end                                                                                                            \t|  1.55e-06       \t|  22             \t|  3.41e-05       \t|  3.1824e-05     \t|\n",
      "|  [Callback]ModelCheckpoint{'monitor': None, 'mode': 'min', 'every_n_train_steps': 0, 'every_n_epochs': 1, 'train_time_interval': None}.on_validation_batch_end  \t|  1.3266e-06     \t|  22             \t|  2.9186e-05     \t|  2.7238e-05     \t|\n",
      "|  [LightningModule]MultiStage.on_validation_batch_start                                                                                                          \t|  1.2057e-06     \t|  22             \t|  2.6525e-05     \t|  2.4755e-05     \t|\n",
      "|  [Callback]ModelCheckpoint{'monitor': None, 'mode': 'min', 'every_n_train_steps': 0, 'every_n_epochs': 1, 'train_time_interval': None}.on_validation_batch_start\t|  1.1557e-06     \t|  22             \t|  2.5426e-05     \t|  2.3729e-05     \t|\n",
      "|  [Callback]ModelSummary.on_validation_end                                                                                                                       \t|  3.708e-06      \t|  3              \t|  1.1124e-05     \t|  1.0382e-05     \t|\n",
      "|  [Callback]ModelSummary.on_validation_start                                                                                                                     \t|  3.1743e-06     \t|  3              \t|  9.523e-06      \t|  8.8875e-06     \t|\n",
      "|  [Callback]ModelSummary.on_train_epoch_start                                                                                                                    \t|  4.2815e-06     \t|  2              \t|  8.563e-06      \t|  7.9915e-06     \t|\n",
      "|  [LightningModule]MultiStage.configure_callbacks                                                                                                                \t|  7.304e-06      \t|  1              \t|  7.304e-06      \t|  6.8166e-06     \t|\n",
      "|  [Callback]TQDMProgressBar.on_sanity_check_end                                                                                                                  \t|  7.073e-06      \t|  1              \t|  7.073e-06      \t|  6.601e-06      \t|\n",
      "|  [Callback]TQDMProgressBar.on_validation_epoch_end                                                                                                              \t|  2.3367e-06     \t|  3              \t|  7.01e-06       \t|  6.5422e-06     \t|\n",
      "|  [LightningModule]MultiStage.setup                                                                                                                              \t|  6.663e-06      \t|  1              \t|  6.663e-06      \t|  6.2184e-06     \t|\n",
      "|  [Callback]TQDMProgressBar.setup                                                                                                                                \t|  5.881e-06      \t|  1              \t|  5.881e-06      \t|  5.4885e-06     \t|\n",
      "|  [Callback]ModelSummary.on_train_start                                                                                                                          \t|  5.339e-06      \t|  1              \t|  5.339e-06      \t|  4.9827e-06     \t|\n",
      "|  [LightningModule]MultiStage.on_save_checkpoint                                                                                                                 \t|  2.656e-06      \t|  2              \t|  5.312e-06      \t|  4.9575e-06     \t|\n",
      "|  [Callback]TQDMProgressBar.on_save_checkpoint                                                                                                                   \t|  2.5755e-06     \t|  2              \t|  5.151e-06      \t|  4.8073e-06     \t|\n",
      "|  [Callback]TQDMProgressBar.on_validation_epoch_start                                                                                                            \t|  1.705e-06      \t|  3              \t|  5.115e-06      \t|  4.7737e-06     \t|\n",
      "|  [Callback]ModelSummary.on_train_epoch_end                                                                                                                      \t|  2.505e-06      \t|  2              \t|  5.01e-06       \t|  4.6757e-06     \t|\n",
      "|  [Callback]ModelCheckpoint{'monitor': None, 'mode': 'min', 'every_n_train_steps': 0, 'every_n_epochs': 1, 'train_time_interval': None}.on_fit_start             \t|  4.066e-06      \t|  1              \t|  4.066e-06      \t|  3.7947e-06     \t|\n",
      "|  [Callback]ModelSummary.on_validation_epoch_end                                                                                                                 \t|  1.2487e-06     \t|  3              \t|  3.746e-06      \t|  3.496e-06      \t|\n",
      "|  [Callback]ModelCheckpoint{'monitor': None, 'mode': 'min', 'every_n_train_steps': 0, 'every_n_epochs': 1, 'train_time_interval': None}.on_validation_start      \t|  1.223e-06      \t|  3              \t|  3.669e-06      \t|  3.4241e-06     \t|\n",
      "|  [LightningModule]MultiStage.on_validation_epoch_start                                                                                                          \t|  1.1433e-06     \t|  3              \t|  3.43e-06       \t|  3.2011e-06     \t|\n",
      "|  [Callback]ModelSummary.on_sanity_check_start                                                                                                                   \t|  3.424e-06      \t|  1              \t|  3.424e-06      \t|  3.1955e-06     \t|\n",
      "|  [Callback]ModelSummary.on_train_end                                                                                                                            \t|  3.298e-06      \t|  1              \t|  3.298e-06      \t|  3.0779e-06     \t|\n",
      "|  [LightningModule]MultiStage.on_validation_end                                                                                                                  \t|  1.084e-06      \t|  3              \t|  3.252e-06      \t|  3.035e-06      \t|\n",
      "|  [Strategy]SingleDeviceStrategy.on_validation_end                                                                                                               \t|  1.0797e-06     \t|  3              \t|  3.239e-06      \t|  3.0228e-06     \t|\n",
      "|  [LightningModule]MultiStage.on_validation_start                                                                                                                \t|  1.0787e-06     \t|  3              \t|  3.236e-06      \t|  3.02e-06       \t|\n",
      "|  [Callback]TQDMProgressBar.on_fit_end                                                                                                                           \t|  3.197e-06      \t|  1              \t|  3.197e-06      \t|  2.9837e-06     \t|\n",
      "|  [Callback]ModelCheckpoint{'monitor': None, 'mode': 'min', 'every_n_train_steps': 0, 'every_n_epochs': 1, 'train_time_interval': None}.on_validation_epoch_end  \t|  1.0603e-06     \t|  3              \t|  3.181e-06      \t|  2.9687e-06     \t|\n",
      "|  [Callback]ModelCheckpoint{'monitor': None, 'mode': 'min', 'every_n_train_steps': 0, 'every_n_epochs': 1, 'train_time_interval': None}.on_validation_epoch_start\t|  9.8266e-07     \t|  3              \t|  2.948e-06      \t|  2.7513e-06     \t|\n",
      "|  [Callback]ModelSummary.on_validation_epoch_start                                                                                                               \t|  9.7334e-07     \t|  3              \t|  2.92e-06       \t|  2.7252e-06     \t|\n",
      "|  [Strategy]SingleDeviceStrategy.on_validation_start                                                                                                             \t|  9.01e-07       \t|  3              \t|  2.703e-06      \t|  2.5226e-06     \t|\n",
      "|  [LightningModule]MultiStage.on_train_epoch_start                                                                                                               \t|  1.332e-06      \t|  2              \t|  2.664e-06      \t|  2.4862e-06     \t|\n",
      "|  [Callback]ModelCheckpoint{'monitor': None, 'mode': 'min', 'every_n_train_steps': 0, 'every_n_epochs': 1, 'train_time_interval': None}.on_train_epoch_start     \t|  1.2405e-06     \t|  2              \t|  2.481e-06      \t|  2.3154e-06     \t|\n",
      "|  [Callback]ModelCheckpoint{'monitor': None, 'mode': 'min', 'every_n_train_steps': 0, 'every_n_epochs': 1, 'train_time_interval': None}.on_train_start           \t|  2.478e-06      \t|  1              \t|  2.478e-06      \t|  2.3127e-06     \t|\n",
      "|  [Callback]TQDMProgressBar.on_fit_start                                                                                                                         \t|  2.42e-06       \t|  1              \t|  2.42e-06       \t|  2.2585e-06     \t|\n",
      "|  [Callback]ModelCheckpoint{'monitor': None, 'mode': 'min', 'every_n_train_steps': 0, 'every_n_epochs': 1, 'train_time_interval': None}.on_save_checkpoint       \t|  1.128e-06      \t|  2              \t|  2.256e-06      \t|  2.1055e-06     \t|\n",
      "|  [LightningModule]MultiStage.on_train_epoch_end                                                                                                                 \t|  1.1225e-06     \t|  2              \t|  2.245e-06      \t|  2.0952e-06     \t|\n",
      "|  [Callback]ModelSummary.on_save_checkpoint                                                                                                                      \t|  1.11e-06       \t|  2              \t|  2.22e-06       \t|  2.0718e-06     \t|\n",
      "|  [Callback]TQDMProgressBar.teardown                                                                                                                             \t|  1.992e-06      \t|  1              \t|  1.992e-06      \t|  1.8591e-06     \t|\n",
      "|  [Callback]ModelSummary.setup                                                                                                                                   \t|  1.718e-06      \t|  1              \t|  1.718e-06      \t|  1.6034e-06     \t|\n",
      "|  [Callback]ModelSummary.on_sanity_check_end                                                                                                                     \t|  1.61e-06       \t|  1              \t|  1.61e-06       \t|  1.5026e-06     \t|\n",
      "|  [LightningModule]MultiStage.on_train_end                                                                                                                       \t|  1.582e-06      \t|  1              \t|  1.582e-06      \t|  1.4764e-06     \t|\n",
      "|  [LightningModule]MultiStage.prepare_data                                                                                                                       \t|  1.517e-06      \t|  1              \t|  1.517e-06      \t|  1.4157e-06     \t|\n",
      "|  [Callback]ModelCheckpoint{'monitor': None, 'mode': 'min', 'every_n_train_steps': 0, 'every_n_epochs': 1, 'train_time_interval': None}.on_train_end             \t|  1.349e-06      \t|  1              \t|  1.349e-06      \t|  1.259e-06      \t|\n",
      "|  [LightningModule]MultiStage.on_fit_start                                                                                                                       \t|  1.313e-06      \t|  1              \t|  1.313e-06      \t|  1.2254e-06     \t|\n",
      "|  [Callback]ModelCheckpoint{'monitor': None, 'mode': 'min', 'every_n_train_steps': 0, 'every_n_epochs': 1, 'train_time_interval': None}.on_sanity_check_start    \t|  1.266e-06      \t|  1              \t|  1.266e-06      \t|  1.1815e-06     \t|\n",
      "|  [LightningModule]MultiStage.on_fit_end                                                                                                                         \t|  1.238e-06      \t|  1              \t|  1.238e-06      \t|  1.1554e-06     \t|\n",
      "|  [Callback]ModelSummary.on_fit_end                                                                                                                              \t|  1.228e-06      \t|  1              \t|  1.228e-06      \t|  1.146e-06      \t|\n",
      "|  [LightningModule]MultiStage.on_train_start                                                                                                                     \t|  1.187e-06      \t|  1              \t|  1.187e-06      \t|  1.1078e-06     \t|\n",
      "|  [Strategy]SingleDeviceStrategy.on_train_end                                                                                                                    \t|  1.161e-06      \t|  1              \t|  1.161e-06      \t|  1.0835e-06     \t|\n",
      "|  [LightningModule]MultiStage.teardown                                                                                                                           \t|  1.151e-06      \t|  1              \t|  1.151e-06      \t|  1.0742e-06     \t|\n",
      "|  [Callback]ModelCheckpoint{'monitor': None, 'mode': 'min', 'every_n_train_steps': 0, 'every_n_epochs': 1, 'train_time_interval': None}.teardown                 \t|  1.139e-06      \t|  1              \t|  1.139e-06      \t|  1.063e-06      \t|\n",
      "|  [Callback]ModelCheckpoint{'monitor': None, 'mode': 'min', 'every_n_train_steps': 0, 'every_n_epochs': 1, 'train_time_interval': None}.on_fit_end               \t|  1.127e-06      \t|  1              \t|  1.127e-06      \t|  1.0518e-06     \t|\n",
      "|  [LightningModule]MultiStage.configure_sharded_model                                                                                                            \t|  1.086e-06      \t|  1              \t|  1.086e-06      \t|  1.0135e-06     \t|\n",
      "|  [Callback]ModelCheckpoint{'monitor': None, 'mode': 'min', 'every_n_train_steps': 0, 'every_n_epochs': 1, 'train_time_interval': None}.on_sanity_check_end      \t|  1.074e-06      \t|  1              \t|  1.074e-06      \t|  1.0023e-06     \t|\n",
      "|  [Callback]ModelSummary.teardown                                                                                                                                \t|  1.072e-06      \t|  1              \t|  1.072e-06      \t|  1.0005e-06     \t|\n",
      "|  [Strategy]SingleDeviceStrategy.on_train_start                                                                                                                  \t|  1.011e-06      \t|  1              \t|  1.011e-06      \t|  9.4354e-07     \t|\n",
      "--------------------------------------------------------------------------------------------------------------------------------------------------------------------------------------------------------------------------------------------------------------------------\n",
      "\n"
     ]
    }
   ],
   "source": [
    "trainer.fit(m)"
   ]
  },
  {
   "cell_type": "code",
   "execution_count": null,
   "id": "5ab6508a",
   "metadata": {},
   "outputs": [],
   "source": []
  }
 ],
 "metadata": {
  "kernelspec": {
   "display_name": "Python 3 (ipykernel)",
   "language": "python",
   "name": "python3"
  },
  "language_info": {
   "codemirror_mode": {
    "name": "ipython",
    "version": 3
   },
   "file_extension": ".py",
   "mimetype": "text/x-python",
   "name": "python",
   "nbconvert_exporter": "python",
   "pygments_lexer": "ipython3",
   "version": "3.8.11"
  }
 },
 "nbformat": 4,
 "nbformat_minor": 5
}
