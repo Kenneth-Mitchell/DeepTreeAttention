{
 "cells": [
  {
   "attachments": {},
   "cell_type": "markdown",
   "metadata": {},
   "source": [
    "# Tree Species Prediction within the National Ecological Observatory Network"
   ]
  },
  {
   "attachments": {},
   "cell_type": "markdown",
   "metadata": {},
   "source": [
    "Each site has a .csv file asset on earth engine containing the predictions.\n"
   ]
  },
  {
   "cell_type": "code",
   "execution_count": 2,
   "metadata": {},
   "outputs": [],
   "source": [
    "import geemap\n",
    "import ee\n",
    "import numpy as np\n",
    "import geemap.colormaps as cm\n",
    "\n",
    "ee.Initialize()\n",
    "# Create an interactive map\n",
    "Map = geemap.Map(center=(40.8, -105), zoom=8)\n",
    "\n",
    "# Add the drawing tools to the map\n",
    "Map.add_basemap('TERRAIN')\n",
    "Map.add_basemap('SATELLITE')\n",
    "Map.add_layer_control()"
   ]
  },
  {
   "cell_type": "markdown",
   "metadata": {},
   "source": [
    "Let's overlay the BART predictions."
   ]
  },
  {
   "cell_type": "code",
   "execution_count": 3,
   "metadata": {},
   "outputs": [],
   "source": [
    "BART = ee.FeatureCollection('users/benweinstein2010/BART')\n",
    "empty = ee.Image()\n",
    "painted_crowns = empty.paint(**{\n",
    "'featureCollection': BART,\n",
    "'color': 'ens_label'})\n",
    "taxonID = BART.aggregate_array(\"sci_name\").getInfo()    \n",
    "taxonID = np.unique(taxonID)\n",
    "palette = cm.get_palette(\"Accent\", n_class=len(taxonID))\n",
    "legend_dict = {x:y for x, y in zip(taxonID, palette)}\n",
    "Map.addLayer(painted_crowns, {\"palette\":palette, \"width\":1, \"min\":0, \"max\":len(taxonID)}, \"Tree Species\")"
   ]
  },
  {
   "cell_type": "code",
   "execution_count": 4,
   "metadata": {},
   "outputs": [],
   "source": [
    "RGB = ee.ImageCollection('projects/neon-prod-earthengine/assets/DP3-30010-001').filterDate('2019-01-01', '2019-12-31').filterMetadata('NEON_SITE', 'equals', \"BART\").first()\n",
    "Map.addLayer(RGB,{},\"RGB\")\n"
   ]
  },
  {
   "cell_type": "code",
   "execution_count": null,
   "metadata": {},
   "outputs": [],
   "source": []
  },
  {
   "cell_type": "markdown",
   "metadata": {},
   "source": [
    "# Open NAIP Airborne Data\n",
    "\n",
    "NAIP is a low resolution airborne data product that cover much of the US"
   ]
  },
  {
   "cell_type": "code",
   "execution_count": 6,
   "metadata": {},
   "outputs": [
    {
     "data": {
      "application/vnd.jupyter.widget-view+json": {
       "model_id": "3d5e76cfc1594a17b76db6b9a170082f",
       "version_major": 2,
       "version_minor": 0
      },
      "text/plain": [
       "Map(center=[44.03708251790937, -71.27145271722016], controls=(WidgetControl(options=['position', 'transparent_…"
      ]
     },
     "execution_count": 6,
     "metadata": {},
     "output_type": "execute_result"
    }
   ],
   "source": [
    "NAIP = ee.ImageCollection(\"USDA/NAIP/DOQQ\")\n",
    "naip2021 = NAIP.filterDate(\"2020-01-01\", \"2021-12-31\")\n",
    "Map.addLayer(naip2021, {}, \"NAIP\")\n",
    "Map"
   ]
  },
  {
   "cell_type": "code",
   "execution_count": 7,
   "metadata": {},
   "outputs": [],
   "source": [
    "Map.centerObject(RGB,12)"
   ]
  }
 ],
 "metadata": {
  "kernelspec": {
   "display_name": "geemap",
   "language": "python",
   "name": "python3"
  },
  "language_info": {
   "codemirror_mode": {
    "name": "ipython",
    "version": 3
   },
   "file_extension": ".py",
   "mimetype": "text/x-python",
   "name": "python",
   "nbconvert_exporter": "python",
   "pygments_lexer": "ipython3",
   "version": "3.11.3"
  },
  "orig_nbformat": 4
 },
 "nbformat": 4,
 "nbformat_minor": 2
}
