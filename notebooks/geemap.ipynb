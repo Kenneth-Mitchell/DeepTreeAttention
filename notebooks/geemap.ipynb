{
 "cells": [
  {
   "attachments": {},
   "cell_type": "markdown",
   "metadata": {},
   "source": [
    "# Tree Species Prediction within the National Ecological Observatory Network"
   ]
  },
  {
   "attachments": {},
   "cell_type": "markdown",
   "metadata": {},
   "source": [
    "To run this notebook, conda install geemap and viola.\n",
    "\n",
    "To upload new assets, see https://developers.google.com/earth-engine/guides/command_line#upload\n",
    "\n",
    "earthengine upload table --asset_id=users/benweinstein2010/myUploadedShapefile gs://earthengine_shapefiles/2019_HARV_6_725000_4704000_image.shp --wait\n",
    "\n",
    "earthengine upload table --manifest --wait\n",
    "\n",
    "#Manifests are formatted\n",
    "\n",
    "{\n",
    "  \"name\": \"projects/earthengine-legacy/assets/users/username/some_folder/some_asset_id\",\n",
    "  \"sources\": [\n",
    "    {\n",
    "      \"uris\": [\n",
    "        \"gs://earthengine-test/small.csv\"\n",
    "      ]\n",
    "    }\n",
    "  ]\n",
    "}"
   ]
  },
  {
   "cell_type": "code",
   "execution_count": 1,
   "metadata": {},
   "outputs": [
    {
     "name": "stdout",
     "output_type": "stream",
     "text": [
      "ROADMAP has been already added before.\n"
     ]
    },
    {
     "data": {
      "application/vnd.jupyter.widget-view+json": {
       "model_id": "1bd4f357e89844dc8aed220d3fb1543c",
       "version_major": 2,
       "version_minor": 0
      },
      "text/plain": [
       "Map(center=[40, -100], controls=(WidgetControl(options=['position', 'transparent_bg'], widget=HBox(children=(T…"
      ]
     },
     "execution_count": 1,
     "metadata": {},
     "output_type": "execute_result"
    }
   ],
   "source": [
    "import geemap\n",
    "# Create an interactive map\n",
    "Map = geemap.Map(center=(40, -100), zoom=4)\n",
    "\n",
    "# Add the drawing tools to the map\n",
    "Map.add_basemap('HYBRID')\n",
    "Map.add_basemap('ROADMAP')\n",
    "Map.add_basemap('TERRAIN')\n",
    "Map.add_basemap('SATELLITE')\n",
    "Map.add_layer_control()\n",
    "\n",
    "# Display the map\n",
    "Map"
   ]
  },
  {
   "attachments": {},
   "cell_type": "markdown",
   "metadata": {},
   "source": []
  },
  {
   "cell_type": "code",
   "execution_count": null,
   "metadata": {},
   "outputs": [],
   "source": [
    "# Add Earth Engine dataset\n",
    "# Load an image.\n",
    "\n",
    "var harvRGB = ee.ImageCollection(\"projects/neon-prod-earthengine/assets/DP3-30010-001\")\n",
    "  .filterDate('2019-01-01', '2019-12-31')\n",
    "  .filterMetadata('NEON_SITE', 'equals', 'HARV')\n",
    "  .first();\n",
    "\n",
    "\n",
    "image = ee.Image('LANDSAT/LC08/C01/T1/LC08_044034_20140318')\n",
    "\n",
    "# Center the map on the image.\n",
    "Map.centerObject(image, 9)\n",
    "\n",
    "# Display the image.\n",
    "Map.addLayer(image, {}, 'Landsat 8 original image')\n",
    "\n",
    "# Define visualization parameters in an object literal.\n",
    "vizParams = {'bands': ['B5', 'B4', 'B3'],\n",
    "             'min': 5000, 'max': 15000, 'gamma': 1.3}\n",
    "\n",
    "# Center the map on the image and display.\n",
    "Map.centerObject(image, 9)\n",
    "Map.addLayer(image, vizParams, 'Landsat 8 False color')\n",
    "\n",
    "# Use Map.addLayer() to add features and feature collections to the map. For example,\n",
    "counties = ee.FeatureCollection('TIGER/2016/Counties')\n",
    "Map.addLayer(ee.Image().paint(counties, 0, 2), {}, 'counties')"
   ]
  }
 ],
 "metadata": {
  "kernelspec": {
   "display_name": "geemap",
   "language": "python",
   "name": "python3"
  },
  "language_info": {
   "codemirror_mode": {
    "name": "ipython",
    "version": 3
   },
   "file_extension": ".py",
   "mimetype": "text/x-python",
   "name": "python",
   "nbconvert_exporter": "python",
   "pygments_lexer": "ipython3",
   "version": "3.11.3"
  },
  "orig_nbformat": 4
 },
 "nbformat": 4,
 "nbformat_minor": 2
}
